{
 "cells": [
  {
   "cell_type": "markdown",
   "metadata": {},
   "source": [
    "# Implementation of Target Entropy Encoding (Developed Algorithm)"
   ]
  },
  {
   "cell_type": "code",
   "execution_count": 1,
   "metadata": {},
   "outputs": [],
   "source": [
    "import pandas as pd\n",
    "import math\n",
    "from sklearn.model_selection import train_test_split\n",
    "from sklearn.preprocessing import StandardScaler\n",
    "from sklearn.metrics import accuracy_score\n",
    "from sklearn import preprocessing\n",
    "import math"
   ]
  },
  {
   "cell_type": "code",
   "execution_count": 4,
   "metadata": {},
   "outputs": [],
   "source": [
    "df = pd.read_csv(r\"C:\\Users\\John Taiwo\\Downloads\\toyota.csv\")\n"
   ]
  },
  {
   "cell_type": "code",
   "execution_count": 5,
   "metadata": {},
   "outputs": [
    {
     "name": "stdout",
     "output_type": "stream",
     "text": [
      "<class 'pandas.core.frame.DataFrame'>\n",
      "RangeIndex: 1737 entries, 5001 to 6737\n",
      "Data columns (total 9 columns):\n",
      " #   Column        Non-Null Count  Dtype  \n",
      "---  ------        --------------  -----  \n",
      " 0   model         1737 non-null   object \n",
      " 1   year          1737 non-null   int64  \n",
      " 2   price         1737 non-null   int64  \n",
      " 3   transmission  1737 non-null   object \n",
      " 4   mileage       1737 non-null   int64  \n",
      " 5   fuelType      1737 non-null   object \n",
      " 6   tax           1737 non-null   int64  \n",
      " 7   mpg           1737 non-null   float64\n",
      " 8   engineSize    1737 non-null   float64\n",
      "dtypes: float64(2), int64(4), object(3)\n",
      "memory usage: 122.3+ KB\n"
     ]
    },
    {
     "data": {
      "text/html": [
       "<div>\n",
       "<style scoped>\n",
       "    .dataframe tbody tr th:only-of-type {\n",
       "        vertical-align: middle;\n",
       "    }\n",
       "\n",
       "    .dataframe tbody tr th {\n",
       "        vertical-align: top;\n",
       "    }\n",
       "\n",
       "    .dataframe thead th {\n",
       "        text-align: right;\n",
       "    }\n",
       "</style>\n",
       "<table border=\"1\" class=\"dataframe\">\n",
       "  <thead>\n",
       "    <tr style=\"text-align: right;\">\n",
       "      <th></th>\n",
       "      <th>model</th>\n",
       "      <th>year</th>\n",
       "      <th>price</th>\n",
       "      <th>transmission</th>\n",
       "      <th>mileage</th>\n",
       "      <th>fuelType</th>\n",
       "      <th>tax</th>\n",
       "      <th>mpg</th>\n",
       "      <th>engineSize</th>\n",
       "    </tr>\n",
       "  </thead>\n",
       "  <tbody>\n",
       "    <tr>\n",
       "      <th>5001</th>\n",
       "      <td>Aygo</td>\n",
       "      <td>2019</td>\n",
       "      <td>0</td>\n",
       "      <td>Manual</td>\n",
       "      <td>4535</td>\n",
       "      <td>Petrol</td>\n",
       "      <td>145</td>\n",
       "      <td>57.7</td>\n",
       "      <td>1.0</td>\n",
       "    </tr>\n",
       "    <tr>\n",
       "      <th>5002</th>\n",
       "      <td>Aygo</td>\n",
       "      <td>2019</td>\n",
       "      <td>0</td>\n",
       "      <td>Manual</td>\n",
       "      <td>66</td>\n",
       "      <td>Petrol</td>\n",
       "      <td>145</td>\n",
       "      <td>57.7</td>\n",
       "      <td>1.0</td>\n",
       "    </tr>\n",
       "    <tr>\n",
       "      <th>5003</th>\n",
       "      <td>Aygo</td>\n",
       "      <td>2020</td>\n",
       "      <td>0</td>\n",
       "      <td>Manual</td>\n",
       "      <td>4578</td>\n",
       "      <td>Petrol</td>\n",
       "      <td>150</td>\n",
       "      <td>56.5</td>\n",
       "      <td>1.0</td>\n",
       "    </tr>\n",
       "    <tr>\n",
       "      <th>5004</th>\n",
       "      <td>Aygo</td>\n",
       "      <td>2016</td>\n",
       "      <td>0</td>\n",
       "      <td>Manual</td>\n",
       "      <td>29906</td>\n",
       "      <td>Petrol</td>\n",
       "      <td>0</td>\n",
       "      <td>69.0</td>\n",
       "      <td>1.0</td>\n",
       "    </tr>\n",
       "    <tr>\n",
       "      <th>5005</th>\n",
       "      <td>Aygo</td>\n",
       "      <td>2020</td>\n",
       "      <td>0</td>\n",
       "      <td>Semi-Auto</td>\n",
       "      <td>4568</td>\n",
       "      <td>Petrol</td>\n",
       "      <td>145</td>\n",
       "      <td>56.5</td>\n",
       "      <td>1.0</td>\n",
       "    </tr>\n",
       "  </tbody>\n",
       "</table>\n",
       "</div>"
      ],
      "text/plain": [
       "      model  year  price transmission  mileage fuelType  tax   mpg  engineSize\n",
       "5001   Aygo  2019      0       Manual     4535   Petrol  145  57.7         1.0\n",
       "5002   Aygo  2019      0       Manual       66   Petrol  145  57.7         1.0\n",
       "5003   Aygo  2020      0       Manual     4578   Petrol  150  56.5         1.0\n",
       "5004   Aygo  2016      0       Manual    29906   Petrol    0  69.0         1.0\n",
       "5005   Aygo  2020      0    Semi-Auto     4568   Petrol  145  56.5         1.0"
      ]
     },
     "execution_count": 5,
     "metadata": {},
     "output_type": "execute_result"
    }
   ],
   "source": [
    "df['price'] = df['price'].apply(lambda x: 1 if x > df.price.mean() else 0)\n",
    "\n",
    "df_1 = df.iloc[:5000,:]\n",
    "df_2 = df.iloc[5001:,:]\n",
    "df = df_1\n",
    "\n",
    "df_2.info()\n",
    "df_2.head()"
   ]
  },
  {
   "cell_type": "code",
   "execution_count": 6,
   "metadata": {},
   "outputs": [],
   "source": [
    "def entropy(df, col):\n",
    "    t0_prob = len(df[df[col] == 0])/len(df)\n",
    "    t1_prob = len(df[df[col] == 1])/len(df)\n",
    "    if t1_prob == 0 or t0_prob == 0:\n",
    "        total_ent = 0\n",
    "    else:\n",
    "        t0_ent = (-t0_prob)*(math.log2(t0_prob))\n",
    "        t1_ent = (-t1_prob)*(math.log2(t1_prob))\n",
    "        total_ent = t0_ent + t1_ent\n",
    "    return total_ent"
   ]
  },
  {
   "cell_type": "code",
   "execution_count": 7,
   "metadata": {},
   "outputs": [],
   "source": [
    "def cont(df, column, target):\n",
    "    \n",
    "    #temp_df =\n",
    "    \n",
    "    target_ent = entropy(df, target)\n",
    "    cat_list = df[column].unique()\n",
    "    #print(cat_list)\n",
    "    test_list=[]\n",
    "    \n",
    "    enc_col = column+'_enc'\n",
    "    df.loc[:,enc_col] = df[column]\n",
    "\n",
    "    for cat in cat_list:\n",
    "        \n",
    "        df_cat = df[df[column] == cat]\n",
    "        ent_cat = entropy(df_cat, target)\n",
    "        prob_cat = len(df_cat)/len(df)\n",
    "        cont_cat = (prob_cat*ent_cat)/target_ent\n",
    "        \n",
    "        \n",
    "        df[enc_col] = df[enc_col].replace([cat],cont_cat)\n",
    "        \n",
    "        #test_list.append(cont_cat)\n",
    "        #print(cont_cat)\n",
    "        \n",
    "    return df"
   ]
  },
  {
   "cell_type": "code",
   "execution_count": 8,
   "metadata": {},
   "outputs": [
    {
     "data": {
      "text/html": [
       "<div>\n",
       "<style scoped>\n",
       "    .dataframe tbody tr th:only-of-type {\n",
       "        vertical-align: middle;\n",
       "    }\n",
       "\n",
       "    .dataframe tbody tr th {\n",
       "        vertical-align: top;\n",
       "    }\n",
       "\n",
       "    .dataframe thead th {\n",
       "        text-align: right;\n",
       "    }\n",
       "</style>\n",
       "<table border=\"1\" class=\"dataframe\">\n",
       "  <thead>\n",
       "    <tr style=\"text-align: right;\">\n",
       "      <th></th>\n",
       "      <th>model</th>\n",
       "      <th>year</th>\n",
       "      <th>price</th>\n",
       "      <th>transmission</th>\n",
       "      <th>mileage</th>\n",
       "      <th>fuelType</th>\n",
       "      <th>tax</th>\n",
       "      <th>mpg</th>\n",
       "      <th>engineSize</th>\n",
       "      <th>transmission_enc</th>\n",
       "      <th>fuelType_enc</th>\n",
       "      <th>model_enc</th>\n",
       "    </tr>\n",
       "  </thead>\n",
       "  <tbody>\n",
       "    <tr>\n",
       "      <th>0</th>\n",
       "      <td>GT86</td>\n",
       "      <td>2016</td>\n",
       "      <td>1</td>\n",
       "      <td>Manual</td>\n",
       "      <td>24089</td>\n",
       "      <td>Petrol</td>\n",
       "      <td>265</td>\n",
       "      <td>36.2</td>\n",
       "      <td>2.0</td>\n",
       "      <td>0.355871</td>\n",
       "      <td>0.38797</td>\n",
       "      <td>0.006801</td>\n",
       "    </tr>\n",
       "    <tr>\n",
       "      <th>1</th>\n",
       "      <td>GT86</td>\n",
       "      <td>2017</td>\n",
       "      <td>1</td>\n",
       "      <td>Manual</td>\n",
       "      <td>18615</td>\n",
       "      <td>Petrol</td>\n",
       "      <td>145</td>\n",
       "      <td>36.2</td>\n",
       "      <td>2.0</td>\n",
       "      <td>0.355871</td>\n",
       "      <td>0.38797</td>\n",
       "      <td>0.006801</td>\n",
       "    </tr>\n",
       "    <tr>\n",
       "      <th>2</th>\n",
       "      <td>GT86</td>\n",
       "      <td>2015</td>\n",
       "      <td>1</td>\n",
       "      <td>Manual</td>\n",
       "      <td>27469</td>\n",
       "      <td>Petrol</td>\n",
       "      <td>265</td>\n",
       "      <td>36.2</td>\n",
       "      <td>2.0</td>\n",
       "      <td>0.355871</td>\n",
       "      <td>0.38797</td>\n",
       "      <td>0.006801</td>\n",
       "    </tr>\n",
       "    <tr>\n",
       "      <th>3</th>\n",
       "      <td>GT86</td>\n",
       "      <td>2017</td>\n",
       "      <td>1</td>\n",
       "      <td>Manual</td>\n",
       "      <td>14736</td>\n",
       "      <td>Petrol</td>\n",
       "      <td>150</td>\n",
       "      <td>36.2</td>\n",
       "      <td>2.0</td>\n",
       "      <td>0.355871</td>\n",
       "      <td>0.38797</td>\n",
       "      <td>0.006801</td>\n",
       "    </tr>\n",
       "    <tr>\n",
       "      <th>4</th>\n",
       "      <td>GT86</td>\n",
       "      <td>2017</td>\n",
       "      <td>1</td>\n",
       "      <td>Manual</td>\n",
       "      <td>36284</td>\n",
       "      <td>Petrol</td>\n",
       "      <td>145</td>\n",
       "      <td>36.2</td>\n",
       "      <td>2.0</td>\n",
       "      <td>0.355871</td>\n",
       "      <td>0.38797</td>\n",
       "      <td>0.006801</td>\n",
       "    </tr>\n",
       "  </tbody>\n",
       "</table>\n",
       "</div>"
      ],
      "text/plain": [
       "   model  year  price transmission  mileage fuelType  tax   mpg  engineSize  \\\n",
       "0   GT86  2016      1       Manual    24089   Petrol  265  36.2         2.0   \n",
       "1   GT86  2017      1       Manual    18615   Petrol  145  36.2         2.0   \n",
       "2   GT86  2015      1       Manual    27469   Petrol  265  36.2         2.0   \n",
       "3   GT86  2017      1       Manual    14736   Petrol  150  36.2         2.0   \n",
       "4   GT86  2017      1       Manual    36284   Petrol  145  36.2         2.0   \n",
       "\n",
       "   transmission_enc  fuelType_enc  model_enc  \n",
       "0          0.355871       0.38797   0.006801  \n",
       "1          0.355871       0.38797   0.006801  \n",
       "2          0.355871       0.38797   0.006801  \n",
       "3          0.355871       0.38797   0.006801  \n",
       "4          0.355871       0.38797   0.006801  "
      ]
     },
     "execution_count": 8,
     "metadata": {},
     "output_type": "execute_result"
    }
   ],
   "source": [
    "cont(df, 'transmission', 'price')\n",
    "cont(df, 'fuelType', 'price')\n",
    "cont(df, 'model', 'price')\n",
    "\n",
    "df.head()"
   ]
  },
  {
   "cell_type": "code",
   "execution_count": 9,
   "metadata": {},
   "outputs": [
    {
     "name": "stdout",
     "output_type": "stream",
     "text": [
      "['Manual' 'Automatic' 'Semi-Auto' 'Other']\n",
      "['Petrol' 'Other' 'Hybrid' 'Diesel']\n",
      "[' GT86' ' Corolla' ' RAV4' ' Yaris' ' Auris' ' Aygo']\n"
     ]
    }
   ],
   "source": [
    "print(df.transmission.unique())\n",
    "print(df.fuelType.unique())\n",
    "print(df.model.unique())"
   ]
  },
  {
   "cell_type": "code",
   "execution_count": 10,
   "metadata": {},
   "outputs": [
    {
     "name": "stdout",
     "output_type": "stream",
     "text": [
      "(array(['Manual', 'Automatic', 'Semi-Auto', 'Other'], dtype=object), array([0.355871 , 0.0147314, 0.3912999]))\n",
      "\n",
      "(array(['Petrol', 'Other', 'Hybrid', 'Diesel'], dtype=object), array([0.3879698 , 0.00410075, 0.30035821, 0.05393965]))\n",
      "\n",
      "(array([' GT86', ' Corolla', ' RAV4', ' Yaris', ' Auris', ' Aygo'],\n",
      "      dtype=object), array([0.00894957, 0.        ]))\n",
      "\n"
     ]
    }
   ],
   "source": [
    "\n",
    "def rep(column):\n",
    "    to_rep = df_2[column].unique()\n",
    "#print('to_rep='+str(to_rep))\n",
    "    for i in to_rep:\n",
    "        if i not in df[column].unique():\n",
    "            df_2[column] = df_2[column].replace([i],0)\n",
    "        else:\n",
    "            rep_val = df[df[column]==i][column+'_enc'].values\n",
    "            rep_val = rep_val[0]\n",
    "#print('rep_val='+str(rep_val))\n",
    "            df_2[column] = df_2[column].replace([i],rep_val)\n",
    "#print(df_2.transmission)\n",
    "\n",
    "    return df[column].unique(),df_2[column].unique()\n",
    "\n",
    "col_list = ['transmission', 'fuelType', 'model']\n",
    "for col in col_list:\n",
    "    print(rep(col))\n",
    "    #print(df[col].unique())\n",
    "    print()"
   ]
  },
  {
   "cell_type": "code",
   "execution_count": 11,
   "metadata": {},
   "outputs": [
    {
     "data": {
      "text/html": [
       "<div>\n",
       "<style scoped>\n",
       "    .dataframe tbody tr th:only-of-type {\n",
       "        vertical-align: middle;\n",
       "    }\n",
       "\n",
       "    .dataframe tbody tr th {\n",
       "        vertical-align: top;\n",
       "    }\n",
       "\n",
       "    .dataframe thead th {\n",
       "        text-align: right;\n",
       "    }\n",
       "</style>\n",
       "<table border=\"1\" class=\"dataframe\">\n",
       "  <thead>\n",
       "    <tr style=\"text-align: right;\">\n",
       "      <th></th>\n",
       "      <th>model</th>\n",
       "      <th>year</th>\n",
       "      <th>price</th>\n",
       "      <th>transmission</th>\n",
       "      <th>mileage</th>\n",
       "      <th>fuelType</th>\n",
       "      <th>tax</th>\n",
       "      <th>mpg</th>\n",
       "      <th>engineSize</th>\n",
       "    </tr>\n",
       "  </thead>\n",
       "  <tbody>\n",
       "    <tr>\n",
       "      <th>5001</th>\n",
       "      <td>0.00895</td>\n",
       "      <td>2019</td>\n",
       "      <td>0</td>\n",
       "      <td>0.355871</td>\n",
       "      <td>4535</td>\n",
       "      <td>0.38797</td>\n",
       "      <td>145</td>\n",
       "      <td>57.7</td>\n",
       "      <td>1.0</td>\n",
       "    </tr>\n",
       "    <tr>\n",
       "      <th>5002</th>\n",
       "      <td>0.00895</td>\n",
       "      <td>2019</td>\n",
       "      <td>0</td>\n",
       "      <td>0.355871</td>\n",
       "      <td>66</td>\n",
       "      <td>0.38797</td>\n",
       "      <td>145</td>\n",
       "      <td>57.7</td>\n",
       "      <td>1.0</td>\n",
       "    </tr>\n",
       "    <tr>\n",
       "      <th>5003</th>\n",
       "      <td>0.00895</td>\n",
       "      <td>2020</td>\n",
       "      <td>0</td>\n",
       "      <td>0.355871</td>\n",
       "      <td>4578</td>\n",
       "      <td>0.38797</td>\n",
       "      <td>150</td>\n",
       "      <td>56.5</td>\n",
       "      <td>1.0</td>\n",
       "    </tr>\n",
       "    <tr>\n",
       "      <th>5004</th>\n",
       "      <td>0.00895</td>\n",
       "      <td>2016</td>\n",
       "      <td>0</td>\n",
       "      <td>0.355871</td>\n",
       "      <td>29906</td>\n",
       "      <td>0.38797</td>\n",
       "      <td>0</td>\n",
       "      <td>69.0</td>\n",
       "      <td>1.0</td>\n",
       "    </tr>\n",
       "    <tr>\n",
       "      <th>5005</th>\n",
       "      <td>0.00895</td>\n",
       "      <td>2020</td>\n",
       "      <td>0</td>\n",
       "      <td>0.014731</td>\n",
       "      <td>4568</td>\n",
       "      <td>0.38797</td>\n",
       "      <td>145</td>\n",
       "      <td>56.5</td>\n",
       "      <td>1.0</td>\n",
       "    </tr>\n",
       "  </tbody>\n",
       "</table>\n",
       "</div>"
      ],
      "text/plain": [
       "        model  year  price  transmission  mileage  fuelType  tax   mpg  \\\n",
       "5001  0.00895  2019      0      0.355871     4535   0.38797  145  57.7   \n",
       "5002  0.00895  2019      0      0.355871       66   0.38797  145  57.7   \n",
       "5003  0.00895  2020      0      0.355871     4578   0.38797  150  56.5   \n",
       "5004  0.00895  2016      0      0.355871    29906   0.38797    0  69.0   \n",
       "5005  0.00895  2020      0      0.014731     4568   0.38797  145  56.5   \n",
       "\n",
       "      engineSize  \n",
       "5001         1.0  \n",
       "5002         1.0  \n",
       "5003         1.0  \n",
       "5004         1.0  \n",
       "5005         1.0  "
      ]
     },
     "execution_count": 11,
     "metadata": {},
     "output_type": "execute_result"
    }
   ],
   "source": [
    "df_2.head()"
   ]
  },
  {
   "cell_type": "code",
   "execution_count": 91,
   "metadata": {},
   "outputs": [],
   "source": [
    "train_features = df[['year', 'mileage', 'tax',\n",
    "       'mpg', 'engineSize','transmission_enc','model_enc','fuelType_enc']]\n",
    "train_labels = df['price']\n",
    "\n",
    "test_features = df_2[['year', 'mileage', 'tax',\n",
    "       'mpg', 'engineSize','transmission','model','fuelType']]\n",
    "test_labels = df_2['price']"
   ]
  },
  {
   "cell_type": "code",
   "execution_count": 139,
   "metadata": {},
   "outputs": [],
   "source": [
    "scalar = StandardScaler()\n",
    "train_features = scalar.fit_transform(train_features)\n",
    "test_features = scalar.transform(test_features)"
   ]
  },
  {
   "cell_type": "code",
   "execution_count": 178,
   "metadata": {},
   "outputs": [
    {
     "data": {
      "text/plain": [
       "RandomForestClassifier()"
      ]
     },
     "execution_count": 178,
     "metadata": {},
     "output_type": "execute_result"
    }
   ],
   "source": [
    "from sklearn.ensemble import RandomForestClassifier\n",
    "model = RandomForestClassifier(n_estimators = 100)   \n",
    "model.fit(train_features,train_labels)"
   ]
  },
  {
   "cell_type": "code",
   "execution_count": 179,
   "metadata": {},
   "outputs": [
    {
     "name": "stdout",
     "output_type": "stream",
     "text": [
      "0.9994\n"
     ]
    }
   ],
   "source": [
    "print(model.score(train_features, train_labels))"
   ]
  },
  {
   "cell_type": "code",
   "execution_count": 180,
   "metadata": {},
   "outputs": [
    {
     "name": "stdout",
     "output_type": "stream",
     "text": [
      "0.8981001727115717\n"
     ]
    }
   ],
   "source": [
    "print(model.score(test_features, test_labels))"
   ]
  },
  {
   "cell_type": "code",
   "execution_count": 174,
   "metadata": {},
   "outputs": [
    {
     "data": {
      "text/plain": [
       "array([[704,  99],\n",
       "       [ 60, 874]], dtype=int64)"
      ]
     },
     "execution_count": 174,
     "metadata": {},
     "output_type": "execute_result"
    }
   ],
   "source": [
    "from sklearn.metrics import confusion_matrix\n",
    "confusion_matrix(test_labels, y_predict)"
   ]
  },
  {
   "cell_type": "code",
   "execution_count": null,
   "metadata": {},
   "outputs": [],
   "source": []
  },
  {
   "cell_type": "code",
   "execution_count": null,
   "metadata": {},
   "outputs": [],
   "source": []
  }
 ],
 "metadata": {
  "kernelspec": {
   "display_name": "Python 3 (ipykernel)",
   "language": "python",
   "name": "python3"
  },
  "language_info": {
   "codemirror_mode": {
    "name": "ipython",
    "version": 3
   },
   "file_extension": ".py",
   "mimetype": "text/x-python",
   "name": "python",
   "nbconvert_exporter": "python",
   "pygments_lexer": "ipython3",
   "version": "3.9.7"
  }
 },
 "nbformat": 4,
 "nbformat_minor": 4
}
